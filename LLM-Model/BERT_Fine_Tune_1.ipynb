{
 "cells": [
  {
   "cell_type": "code",
   "execution_count": 1,
   "id": "8d0e3272-ac9c-49e5-a111-1ad56d8bd49c",
   "metadata": {},
   "outputs": [
    {
     "name": "stdout",
     "output_type": "stream",
     "text": [
      "WARNING:tensorflow:From C:\\Users\\rkama\\AppData\\Roaming\\Python\\Python311\\site-packages\\keras\\src\\losses.py:2976: The name tf.losses.sparse_softmax_cross_entropy is deprecated. Please use tf.compat.v1.losses.sparse_softmax_cross_entropy instead.\n",
      "\n"
     ]
    }
   ],
   "source": [
    "import pandas as pd\n",
    "from sklearn.model_selection import train_test_split\n",
    "from transformers import TFAutoModel, AutoTokenizer, BertForSequenceClassification, pipeline, BertTokenizerFast\n",
    "from sklearn.preprocessing import LabelEncoder\n",
    "from torch.utils.data import Dataset\n",
    "import torch"
   ]
  },
  {
   "cell_type": "code",
   "execution_count": 2,
   "id": "cba3a2ba-eb9f-4bb8-8c1b-cdfdd11f0b78",
   "metadata": {},
   "outputs": [
    {
     "data": {
      "text/html": [
       "<div>\n",
       "<style scoped>\n",
       "    .dataframe tbody tr th:only-of-type {\n",
       "        vertical-align: middle;\n",
       "    }\n",
       "\n",
       "    .dataframe tbody tr th {\n",
       "        vertical-align: top;\n",
       "    }\n",
       "\n",
       "    .dataframe thead th {\n",
       "        text-align: right;\n",
       "    }\n",
       "</style>\n",
       "<table border=\"1\" class=\"dataframe\">\n",
       "  <thead>\n",
       "    <tr style=\"text-align: right;\">\n",
       "      <th></th>\n",
       "      <th>text</th>\n",
       "      <th>label</th>\n",
       "      <th>category</th>\n",
       "    </tr>\n",
       "  </thead>\n",
       "  <tbody>\n",
       "    <tr>\n",
       "      <th>0</th>\n",
       "      <td>FLASH SALE | LIMITED TIME ONLY Shop Now</td>\n",
       "      <td>1</td>\n",
       "      <td>Urgency</td>\n",
       "    </tr>\n",
       "    <tr>\n",
       "      <th>1</th>\n",
       "      <td>Pillowcases &amp; Shams</td>\n",
       "      <td>0</td>\n",
       "      <td>Not Dark Pattern</td>\n",
       "    </tr>\n",
       "    <tr>\n",
       "      <th>2</th>\n",
       "      <td>Write a review</td>\n",
       "      <td>0</td>\n",
       "      <td>Not Dark Pattern</td>\n",
       "    </tr>\n",
       "    <tr>\n",
       "      <th>3</th>\n",
       "      <td>To start your return, simply click on the foll...</td>\n",
       "      <td>0</td>\n",
       "      <td>Not Dark Pattern</td>\n",
       "    </tr>\n",
       "    <tr>\n",
       "      <th>4</th>\n",
       "      <td>newsletter signup (privacy policy)</td>\n",
       "      <td>0</td>\n",
       "      <td>Not Dark Pattern</td>\n",
       "    </tr>\n",
       "  </tbody>\n",
       "</table>\n",
       "</div>"
      ],
      "text/plain": [
       "                                                text label          category\n",
       "0            FLASH SALE | LIMITED TIME ONLY Shop Now     1           Urgency\n",
       "1                                Pillowcases & Shams     0  Not Dark Pattern\n",
       "2                                     Write a review     0  Not Dark Pattern\n",
       "3  To start your return, simply click on the foll...     0  Not Dark Pattern\n",
       "4                newsletter signup (privacy policy)      0  Not Dark Pattern"
      ]
     },
     "execution_count": 2,
     "metadata": {},
     "output_type": "execute_result"
    }
   ],
   "source": [
    "df = pd.read_csv(\"cleaned.csv\")\n",
    "df.head()"
   ]
  },
  {
   "cell_type": "code",
   "execution_count": 3,
   "id": "077789d2-6c22-4893-9b30-b22d8fff5ef1",
   "metadata": {},
   "outputs": [
    {
     "data": {
      "text/plain": [
       "['Urgency',\n",
       " 'Not Dark Pattern',\n",
       " 'Scarcity',\n",
       " 'Misdirection',\n",
       " 'Social Proof',\n",
       " 'Obstruction',\n",
       " 'Sneaking',\n",
       " 'Forced Action']"
      ]
     },
     "execution_count": 3,
     "metadata": {},
     "output_type": "execute_result"
    }
   ],
   "source": [
    "fine = df['category'].unique().tolist()\n",
    "fine = [s.strip() for s in fine]\n",
    "fine"
   ]
  },
  {
   "cell_type": "code",
   "execution_count": 4,
   "id": "44e52bde-5dcb-4cca-965e-c3c5a883020f",
   "metadata": {},
   "outputs": [],
   "source": [
    "num_fine = len(fine)\n",
    "id2fine = {id:fine for id, fine in enumerate(fine)}\n",
    "fine2id = {fine:id for id, fine in enumerate(fine)}"
   ]
  },
  {
   "cell_type": "code",
   "execution_count": 5,
   "id": "8cca27fa-aaab-46be-bbaf-aff15178b49c",
   "metadata": {},
   "outputs": [
    {
     "data": {
      "text/plain": [
       "{0: 'Urgency',\n",
       " 1: 'Not Dark Pattern',\n",
       " 2: 'Scarcity',\n",
       " 3: 'Misdirection',\n",
       " 4: 'Social Proof',\n",
       " 5: 'Obstruction',\n",
       " 6: 'Sneaking',\n",
       " 7: 'Forced Action'}"
      ]
     },
     "execution_count": 5,
     "metadata": {},
     "output_type": "execute_result"
    }
   ],
   "source": [
    "id2fine"
   ]
  },
  {
   "cell_type": "code",
   "execution_count": 6,
   "id": "73bf3d3a-2c84-4c4a-b72f-7cdc2aaa0741",
   "metadata": {},
   "outputs": [
    {
     "data": {
      "text/plain": [
       "{'Urgency': 0,\n",
       " 'Not Dark Pattern': 1,\n",
       " 'Scarcity': 2,\n",
       " 'Misdirection': 3,\n",
       " 'Social Proof': 4,\n",
       " 'Obstruction': 5,\n",
       " 'Sneaking': 6,\n",
       " 'Forced Action': 7}"
      ]
     },
     "execution_count": 6,
     "metadata": {},
     "output_type": "execute_result"
    }
   ],
   "source": [
    "fine2id"
   ]
  },
  {
   "cell_type": "code",
   "execution_count": 7,
   "id": "88b7bea3-67cc-4ec3-bb81-21491214af1c",
   "metadata": {},
   "outputs": [],
   "source": [
    "df.drop('label', axis=1, inplace=True)"
   ]
  },
  {
   "cell_type": "code",
   "execution_count": 8,
   "id": "429f4a1c-ae2b-4a65-b723-63a8287d27dc",
   "metadata": {},
   "outputs": [
    {
     "data": {
      "text/html": [
       "<div>\n",
       "<style scoped>\n",
       "    .dataframe tbody tr th:only-of-type {\n",
       "        vertical-align: middle;\n",
       "    }\n",
       "\n",
       "    .dataframe tbody tr th {\n",
       "        vertical-align: top;\n",
       "    }\n",
       "\n",
       "    .dataframe thead th {\n",
       "        text-align: right;\n",
       "    }\n",
       "</style>\n",
       "<table border=\"1\" class=\"dataframe\">\n",
       "  <thead>\n",
       "    <tr style=\"text-align: right;\">\n",
       "      <th></th>\n",
       "      <th>text</th>\n",
       "      <th>category</th>\n",
       "    </tr>\n",
       "  </thead>\n",
       "  <tbody>\n",
       "    <tr>\n",
       "      <th>0</th>\n",
       "      <td>FLASH SALE | LIMITED TIME ONLY Shop Now</td>\n",
       "      <td>Urgency</td>\n",
       "    </tr>\n",
       "    <tr>\n",
       "      <th>1</th>\n",
       "      <td>Pillowcases &amp; Shams</td>\n",
       "      <td>Not Dark Pattern</td>\n",
       "    </tr>\n",
       "    <tr>\n",
       "      <th>2</th>\n",
       "      <td>Write a review</td>\n",
       "      <td>Not Dark Pattern</td>\n",
       "    </tr>\n",
       "    <tr>\n",
       "      <th>3</th>\n",
       "      <td>To start your return, simply click on the foll...</td>\n",
       "      <td>Not Dark Pattern</td>\n",
       "    </tr>\n",
       "    <tr>\n",
       "      <th>4</th>\n",
       "      <td>newsletter signup (privacy policy)</td>\n",
       "      <td>Not Dark Pattern</td>\n",
       "    </tr>\n",
       "  </tbody>\n",
       "</table>\n",
       "</div>"
      ],
      "text/plain": [
       "                                                text          category\n",
       "0            FLASH SALE | LIMITED TIME ONLY Shop Now           Urgency\n",
       "1                                Pillowcases & Shams  Not Dark Pattern\n",
       "2                                     Write a review  Not Dark Pattern\n",
       "3  To start your return, simply click on the foll...  Not Dark Pattern\n",
       "4                newsletter signup (privacy policy)   Not Dark Pattern"
      ]
     },
     "execution_count": 8,
     "metadata": {},
     "output_type": "execute_result"
    }
   ],
   "source": [
    "df.head()"
   ]
  },
  {
   "cell_type": "code",
   "execution_count": 9,
   "id": "7ab5592d-d8d1-46a8-aaa1-8257df9446b4",
   "metadata": {},
   "outputs": [],
   "source": [
    "df['labels']=df.category.map(lambda x: fine2id[x.strip()])"
   ]
  },
  {
   "cell_type": "code",
   "execution_count": 10,
   "id": "77d10006-c3b4-4a3c-a9c2-5da3a1d726a0",
   "metadata": {},
   "outputs": [
    {
     "data": {
      "text/html": [
       "<div>\n",
       "<style scoped>\n",
       "    .dataframe tbody tr th:only-of-type {\n",
       "        vertical-align: middle;\n",
       "    }\n",
       "\n",
       "    .dataframe tbody tr th {\n",
       "        vertical-align: top;\n",
       "    }\n",
       "\n",
       "    .dataframe thead th {\n",
       "        text-align: right;\n",
       "    }\n",
       "</style>\n",
       "<table border=\"1\" class=\"dataframe\">\n",
       "  <thead>\n",
       "    <tr style=\"text-align: right;\">\n",
       "      <th></th>\n",
       "      <th>text</th>\n",
       "      <th>category</th>\n",
       "      <th>labels</th>\n",
       "    </tr>\n",
       "  </thead>\n",
       "  <tbody>\n",
       "    <tr>\n",
       "      <th>0</th>\n",
       "      <td>FLASH SALE | LIMITED TIME ONLY Shop Now</td>\n",
       "      <td>Urgency</td>\n",
       "      <td>0</td>\n",
       "    </tr>\n",
       "    <tr>\n",
       "      <th>1</th>\n",
       "      <td>Pillowcases &amp; Shams</td>\n",
       "      <td>Not Dark Pattern</td>\n",
       "      <td>1</td>\n",
       "    </tr>\n",
       "    <tr>\n",
       "      <th>2</th>\n",
       "      <td>Write a review</td>\n",
       "      <td>Not Dark Pattern</td>\n",
       "      <td>1</td>\n",
       "    </tr>\n",
       "    <tr>\n",
       "      <th>3</th>\n",
       "      <td>To start your return, simply click on the foll...</td>\n",
       "      <td>Not Dark Pattern</td>\n",
       "      <td>1</td>\n",
       "    </tr>\n",
       "    <tr>\n",
       "      <th>4</th>\n",
       "      <td>newsletter signup (privacy policy)</td>\n",
       "      <td>Not Dark Pattern</td>\n",
       "      <td>1</td>\n",
       "    </tr>\n",
       "    <tr>\n",
       "      <th>...</th>\n",
       "      <td>...</td>\n",
       "      <td>...</td>\n",
       "      <td>...</td>\n",
       "    </tr>\n",
       "    <tr>\n",
       "      <th>3863</th>\n",
       "      <td>TWO FREE PILLOWS AND 30% OFF WITH PROMO CODE</td>\n",
       "      <td>Misdirection</td>\n",
       "      <td>3</td>\n",
       "    </tr>\n",
       "    <tr>\n",
       "      <th>3864</th>\n",
       "      <td>Compare at</td>\n",
       "      <td>Misdirection</td>\n",
       "      <td>3</td>\n",
       "    </tr>\n",
       "    <tr>\n",
       "      <th>3865</th>\n",
       "      <td>$132.90 $99.00</td>\n",
       "      <td>Misdirection</td>\n",
       "      <td>3</td>\n",
       "    </tr>\n",
       "    <tr>\n",
       "      <th>3866</th>\n",
       "      <td>This offer is only VALID if you add to cart now!</td>\n",
       "      <td>Misdirection</td>\n",
       "      <td>3</td>\n",
       "    </tr>\n",
       "    <tr>\n",
       "      <th>3867</th>\n",
       "      <td>Save $148.98AUD â€“ 49% Off</td>\n",
       "      <td>Misdirection</td>\n",
       "      <td>3</td>\n",
       "    </tr>\n",
       "  </tbody>\n",
       "</table>\n",
       "<p>3868 rows × 3 columns</p>\n",
       "</div>"
      ],
      "text/plain": [
       "                                                   text          category  \\\n",
       "0               FLASH SALE | LIMITED TIME ONLY Shop Now           Urgency   \n",
       "1                                   Pillowcases & Shams  Not Dark Pattern   \n",
       "2                                        Write a review  Not Dark Pattern   \n",
       "3     To start your return, simply click on the foll...  Not Dark Pattern   \n",
       "4                   newsletter signup (privacy policy)   Not Dark Pattern   \n",
       "...                                                 ...               ...   \n",
       "3863       TWO FREE PILLOWS AND 30% OFF WITH PROMO CODE      Misdirection   \n",
       "3864                                         Compare at      Misdirection   \n",
       "3865                                     $132.90 $99.00      Misdirection   \n",
       "3866   This offer is only VALID if you add to cart now!      Misdirection   \n",
       "3867                        Save $148.98AUD â€“ 49% Off      Misdirection   \n",
       "\n",
       "      labels  \n",
       "0          0  \n",
       "1          1  \n",
       "2          1  \n",
       "3          1  \n",
       "4          1  \n",
       "...      ...  \n",
       "3863       3  \n",
       "3864       3  \n",
       "3865       3  \n",
       "3866       3  \n",
       "3867       3  \n",
       "\n",
       "[3868 rows x 3 columns]"
      ]
     },
     "execution_count": 10,
     "metadata": {},
     "output_type": "execute_result"
    }
   ],
   "source": [
    "df"
   ]
  },
  {
   "cell_type": "code",
   "execution_count": 11,
   "id": "ec8c05d5-8a6e-49e9-b89e-31bfe1735cbe",
   "metadata": {},
   "outputs": [
    {
     "data": {
      "text/plain": [
       "<Axes: ylabel='count'>"
      ]
     },
     "execution_count": 11,
     "metadata": {},
     "output_type": "execute_result"
    },
    {
     "data": {
      "image/png": "[encoded data removed]",
      "text/plain": [
       "<Figure size 800x800 with 1 Axes>"
      ]
     },
     "metadata": {},
     "output_type": "display_data"
    }
   ],
   "source": [
    "df.category.value_counts().plot(kind='pie', figsize=(8,8))"
   ]
  },
  {
   "cell_type": "code",
   "execution_count": 12,
   "id": "2260dec5-f2fe-4184-918a-934dd98f21cb",
   "metadata": {},
   "outputs": [],
   "source": [
    "tokenizer = AutoTokenizer.from_pretrained(\"bert-base-uncased\", max_length=512)"
   ]
  },
  {
   "cell_type": "code",
   "execution_count": null,
   "id": "ff616762-a26d-4a2a-a807-7642017d41e8",
   "metadata": {},
   "outputs": [],
   "source": []
  },
  {
   "cell_type": "code",
   "execution_count": 13,
   "id": "c4d1cf8d-4186-4f36-aed9-10efebec2589",
   "metadata": {},
   "outputs": [
    {
     "name": "stderr",
     "output_type": "stream",
     "text": [
      "Some weights of BertForSequenceClassification were not initialized from the model checkpoint at bert-base-uncased and are newly initialized: ['classifier.weight', 'classifier.bias']\n",
      "You should probably TRAIN this model on a down-stream task to be able to use it for predictions and inference.\n"
     ]
    },
    {
     "data": {
      "text/plain": [
       "BertForSequenceClassification(\n",
       "  (bert): BertModel(\n",
       "    (embeddings): BertEmbeddings(\n",
       "      (word_embeddings): Embedding(30522, 768, padding_idx=0)\n",
       "      (position_embeddings): Embedding(512, 768)\n",
       "      (token_type_embeddings): Embedding(2, 768)\n",
       "      (LayerNorm): LayerNorm((768,), eps=1e-12, elementwise_affine=True)\n",
       "      (dropout): Dropout(p=0.1, inplace=False)\n",
       "    )\n",
       "    (encoder): BertEncoder(\n",
       "      (layer): ModuleList(\n",
       "        (0-11): 12 x BertLayer(\n",
       "          (attention): BertAttention(\n",
       "            (self): BertSelfAttention(\n",
       "              (query): Linear(in_features=768, out_features=768, bias=True)\n",
       "              (key): Linear(in_features=768, out_features=768, bias=True)\n",
       "              (value): Linear(in_features=768, out_features=768, bias=True)\n",
       "              (dropout): Dropout(p=0.1, inplace=False)\n",
       "            )\n",
       "            (output): BertSelfOutput(\n",
       "              (dense): Linear(in_features=768, out_features=768, bias=True)\n",
       "              (LayerNorm): LayerNorm((768,), eps=1e-12, elementwise_affine=True)\n",
       "              (dropout): Dropout(p=0.1, inplace=False)\n",
       "            )\n",
       "          )\n",
       "          (intermediate): BertIntermediate(\n",
       "            (dense): Linear(in_features=768, out_features=3072, bias=True)\n",
       "            (intermediate_act_fn): GELUActivation()\n",
       "          )\n",
       "          (output): BertOutput(\n",
       "            (dense): Linear(in_features=3072, out_features=768, bias=True)\n",
       "            (LayerNorm): LayerNorm((768,), eps=1e-12, elementwise_affine=True)\n",
       "            (dropout): Dropout(p=0.1, inplace=False)\n",
       "          )\n",
       "        )\n",
       "      )\n",
       "    )\n",
       "    (pooler): BertPooler(\n",
       "      (dense): Linear(in_features=768, out_features=768, bias=True)\n",
       "      (activation): Tanh()\n",
       "    )\n",
       "  )\n",
       "  (dropout): Dropout(p=0.1, inplace=False)\n",
       "  (classifier): Linear(in_features=768, out_features=8, bias=True)\n",
       ")"
      ]
     },
     "execution_count": 13,
     "metadata": {},
     "output_type": "execute_result"
    }
   ],
   "source": [
    "model = BertForSequenceClassification.from_pretrained(\"bert-base-uncased\", num_labels=num_fine,\n",
    "                                                      id2label=id2fine, label2id=fine2id)\n",
    "\n",
    "device = torch.device(\"cuda:0\" if torch.cuda.is_available() else \"cpu\")\n",
    "model.to(device)\n"
   ]
  },
  {
   "cell_type": "code",
   "execution_count": 14,
   "id": "2f499b79-89cc-4691-b149-9f64bf414bd0",
   "metadata": {},
   "outputs": [],
   "source": [
    "SIZE = df.shape[0]\n",
    "train_texts = list(df.text[:SIZE//2])\n",
    "val_texts = list(df.text[SIZE//2:(3*SIZE)//4])\n",
    "test_texts = list(df.text[(3*SIZE)//4:])\n",
    "train_labels = list(df.labels[:SIZE//2])\n",
    "val_labels = list(df.labels[SIZE//2:(3*SIZE)//4])\n",
    "test_labels = list(df.labels[(3*SIZE)//4:])"
   ]
  },
  {
   "cell_type": "code",
   "execution_count": 15,
   "id": "4b00a1bc-1205-4ae8-a1bc-7d88ec5e0390",
   "metadata": {},
   "outputs": [
    {
     "data": {
      "text/plain": [
       "(1934, 967, 967)"
      ]
     },
     "execution_count": 15,
     "metadata": {},
     "output_type": "execute_result"
    }
   ],
   "source": [
    "len(train_texts), len(val_texts), len(test_texts)"
   ]
  },
  {
   "cell_type": "code",
   "execution_count": 16,
   "id": "f03479d4-7bfa-433a-a695-4ea7822a5ada",
   "metadata": {},
   "outputs": [],
   "source": [
    "train_encodings = tokenizer(train_texts, truncation=True, padding=True)\n",
    "if len(val_texts) > 0:\n",
    "    val_encodings = tokenizer(val_texts, truncation=True, padding=True)\n",
    "else:\n",
    "    val_encodings = None  # or handle it accordingly)\n",
    "test_encodings = tokenizer(test_texts, truncation=True, padding=True)"
   ]
  },
  {
   "cell_type": "code",
   "execution_count": 17,
   "id": "aaae70a7-76cd-40d1-9114-192bb89e7787",
   "metadata": {},
   "outputs": [],
   "source": [
    "class Dataloader(Dataset):\n",
    "    def __init__(self, encodings, labels):\n",
    "        self.encodings = encodings\n",
    "        self.labels = labels\n",
    "\n",
    "    def __getitem__(self, idx):\n",
    "        item = {key: torch.tensor(val[idx]) for key, val in self.encodings.items()}\n",
    "        item['labels'] = torch.tensor(self.labels[idx])\n",
    "        return item\n",
    "\n",
    "    def __len__(self):\n",
    "        return len(self.labels)"
   ]
  },
  {
   "cell_type": "code",
   "execution_count": 18,
   "id": "544f5e1b-d3e8-4cad-bbfe-ac0616d6149d",
   "metadata": {},
   "outputs": [],
   "source": [
    "train_dataloader = Dataloader(train_encodings, train_labels)\n",
    "val_dataloader = Dataloader(val_encodings, val_labels)\n",
    "test_dataloader = Dataloader(test_encodings, test_labels)"
   ]
  },
  {
   "cell_type": "code",
   "execution_count": 19,
   "id": "558177ca-b04c-4640-b42d-47960b82193e",
   "metadata": {},
   "outputs": [],
   "source": [
    "from transformers import TrainingArguments, Trainer"
   ]
  },
  {
   "cell_type": "code",
   "execution_count": 20,
   "id": "cb945a9f-8750-44c2-bfb3-1882ba90b7fa",
   "metadata": {},
   "outputs": [],
   "source": [
    "from sklearn.metrics import accuracy_score, precision_recall_fscore_support\n",
    "\n",
    "def compute_metrics(pred):\n",
    "    labels = pred.label_ids\n",
    "\n",
    "    # Obtain predicted class labels by finding the column index with the maximum probability\n",
    "    preds = pred.predictions.argmax(-1)\n",
    "\n",
    "    # Compute macro precision, recall, and F1 score using sklearn's precision_recall_fscore_support function\n",
    "    precision, recall, f1, _ = precision_recall_fscore_support(labels, preds, average='macro')\n",
    "\n",
    "    # Calculate the accuracy score using sklearn's accuracy_score function\n",
    "    acc = accuracy_score(labels, preds)\n",
    "\n",
    "    # Return the computed metrics as a dictionary\n",
    "    return {\n",
    "        'Accuracy': acc,\n",
    "        'F1': f1,\n",
    "        'Precision': precision,\n",
    "        'Recall': recall\n",
    "    }"
   ]
  },
  {
   "cell_type": "code",
   "execution_count": 21,
   "id": "950ba417-d419-4659-a15d-2d4768800d63",
   "metadata": {},
   "outputs": [],
   "source": [
    "training_args = TrainingArguments(\n",
    "    output_dir=\"./TTC4908Model\",\n",
    "    do_train=True,\n",
    "    do_eval=True,\n",
    "\n",
    "    num_train_epochs=3,\n",
    "    per_device_train_batch_size=16,\n",
    "    per_device_eval_batch_size=32,\n",
    "\n",
    "    warmup_steps=100,\n",
    "    weight_decay=0.01,\n",
    "    logging_strategy=\"steps\",\n",
    "\n",
    "    logging_dir=\"./multi-class-logs\",\n",
    "    logging_steps=50,\n",
    "    evaluation_strategy=\"steps\",\n",
    "    eval_steps=50,\n",
    "    save_strategy=\"steps\",\n",
    "    fp16=False,\n",
    "    load_best_model_at_end=True,\n",
    ")"
   ]
  },
  {
   "cell_type": "code",
   "execution_count": 22,
   "id": "cfe40e3c-821f-45c6-8d93-94c544bb2d2a",
   "metadata": {},
   "outputs": [],
   "source": [
    "trainer = Trainer(\n",
    "    # the pre-trained model that will be fine-tuned\n",
    "    model=model,\n",
    "\n",
    "    # training arguments that we defined above\n",
    "    args=training_args,\n",
    "    train_dataset=train_dataloader,\n",
    "    eval_dataset=val_dataloader,\n",
    "    compute_metrics=compute_metrics\n",
    ")"
   ]
  },
  {
   "cell_type": "code",
   "execution_count": 23,
   "id": "de04adf8-b438-4eac-a137-d3a23cbde093",
   "metadata": {},
   "outputs": [
    {
     "data": {
      "text/html": [
       "\n",
       "    <div>\n",
       "      \n",
       "      <progress value='363' max='363' style='width:300px; height:20px; vertical-align: middle;'></progress>\n",
       "      [363/363 2:46:17, Epoch 3/3]\n",
       "    </div>\n",
       "    <table border=\"1\" class=\"dataframe\">\n",
       "  <thead>\n",
       " <tr style=\"text-align: left;\">\n",
       "      <th>Step</th>\n",
       "      <th>Training Loss</th>\n",
       "      <th>Validation Loss</th>\n",
       "      <th>Accuracy</th>\n",
       "      <th>F1</th>\n",
       "      <th>Precision</th>\n",
       "      <th>Recall</th>\n",
       "    </tr>\n",
       "  </thead>\n",
       "  <tbody>\n",
       "    <tr>\n",
       "      <td>50</td>\n",
       "      <td>1.750100</td>\n",
       "      <td>1.515525</td>\n",
       "      <td>0.322647</td>\n",
       "      <td>0.199014</td>\n",
       "      <td>0.258338</td>\n",
       "      <td>0.250888</td>\n",
       "    </tr>\n",
       "    <tr>\n",
       "      <td>100</td>\n",
       "      <td>0.671000</td>\n",
       "      <td>0.321022</td>\n",
       "      <td>0.946225</td>\n",
       "      <td>0.588909</td>\n",
       "      <td>0.591143</td>\n",
       "      <td>0.588671</td>\n",
       "    </tr>\n",
       "    <tr>\n",
       "      <td>150</td>\n",
       "      <td>0.221400</td>\n",
       "      <td>0.134055</td>\n",
       "      <td>0.967942</td>\n",
       "      <td>0.605545</td>\n",
       "      <td>0.601629</td>\n",
       "      <td>0.609642</td>\n",
       "    </tr>\n",
       "    <tr>\n",
       "      <td>200</td>\n",
       "      <td>0.167200</td>\n",
       "      <td>0.136329</td>\n",
       "      <td>0.962771</td>\n",
       "      <td>0.630977</td>\n",
       "      <td>0.717836</td>\n",
       "      <td>0.625078</td>\n",
       "    </tr>\n",
       "    <tr>\n",
       "      <td>250</td>\n",
       "      <td>0.147400</td>\n",
       "      <td>0.112457</td>\n",
       "      <td>0.973113</td>\n",
       "      <td>0.714092</td>\n",
       "      <td>0.713253</td>\n",
       "      <td>0.715008</td>\n",
       "    </tr>\n",
       "    <tr>\n",
       "      <td>300</td>\n",
       "      <td>0.091800</td>\n",
       "      <td>0.111640</td>\n",
       "      <td>0.973113</td>\n",
       "      <td>0.707484</td>\n",
       "      <td>0.700318</td>\n",
       "      <td>0.715640</td>\n",
       "    </tr>\n",
       "    <tr>\n",
       "      <td>350</td>\n",
       "      <td>0.067300</td>\n",
       "      <td>0.110245</td>\n",
       "      <td>0.978283</td>\n",
       "      <td>0.717424</td>\n",
       "      <td>0.716404</td>\n",
       "      <td>0.718513</td>\n",
       "    </tr>\n",
       "  </tbody>\n",
       "</table><p>"
      ],
      "text/plain": [
       "<IPython.core.display.HTML object>"
      ]
     },
     "metadata": {},
     "output_type": "display_data"
    },
    {
     "name": "stderr",
     "output_type": "stream",
     "text": [
      "C:\\ProgramData\\anaconda3\\Lib\\site-packages\\sklearn\\metrics\\_classification.py:1469: UndefinedMetricWarning: Precision and F-score are ill-defined and being set to 0.0 in labels with no predicted samples. Use `zero_division` parameter to control this behavior.\n",
      "  _warn_prf(average, modifier, msg_start, len(result))\n",
      "C:\\ProgramData\\anaconda3\\Lib\\site-packages\\sklearn\\metrics\\_classification.py:1469: UndefinedMetricWarning: Precision and F-score are ill-defined and being set to 0.0 in labels with no predicted samples. Use `zero_division` parameter to control this behavior.\n",
      "  _warn_prf(average, modifier, msg_start, len(result))\n",
      "C:\\ProgramData\\anaconda3\\Lib\\site-packages\\sklearn\\metrics\\_classification.py:1469: UndefinedMetricWarning: Precision and F-score are ill-defined and being set to 0.0 in labels with no predicted samples. Use `zero_division` parameter to control this behavior.\n",
      "  _warn_prf(average, modifier, msg_start, len(result))\n",
      "C:\\ProgramData\\anaconda3\\Lib\\site-packages\\sklearn\\metrics\\_classification.py:1469: UndefinedMetricWarning: Precision and F-score are ill-defined and being set to 0.0 in labels with no predicted samples. Use `zero_division` parameter to control this behavior.\n",
      "  _warn_prf(average, modifier, msg_start, len(result))\n",
      "C:\\ProgramData\\anaconda3\\Lib\\site-packages\\sklearn\\metrics\\_classification.py:1469: UndefinedMetricWarning: Precision and F-score are ill-defined and being set to 0.0 in labels with no predicted samples. Use `zero_division` parameter to control this behavior.\n",
      "  _warn_prf(average, modifier, msg_start, len(result))\n",
      "C:\\ProgramData\\anaconda3\\Lib\\site-packages\\sklearn\\metrics\\_classification.py:1469: UndefinedMetricWarning: Precision and F-score are ill-defined and being set to 0.0 in labels with no predicted samples. Use `zero_division` parameter to control this behavior.\n",
      "  _warn_prf(average, modifier, msg_start, len(result))\n",
      "C:\\ProgramData\\anaconda3\\Lib\\site-packages\\sklearn\\metrics\\_classification.py:1469: UndefinedMetricWarning: Precision and F-score are ill-defined and being set to 0.0 in labels with no predicted samples. Use `zero_division` parameter to control this behavior.\n",
      "  _warn_prf(average, modifier, msg_start, len(result))\n"
     ]
    },
    {
     "data": {
      "text/plain": [
       "TrainOutput(global_step=363, training_loss=0.4305840151040679, metrics={'train_runtime': 10022.2772, 'train_samples_per_second': 0.579, 'train_steps_per_second': 0.036, 'total_flos': 602312151473856.0, 'train_loss': 0.4305840151040679, 'epoch': 3.0})"
      ]
     },
     "execution_count": 23,
     "metadata": {},
     "output_type": "execute_result"
    }
   ],
   "source": [
    "trainer.train()"
   ]
  },
  {
   "cell_type": "code",
   "execution_count": 24,
   "id": "d9090aed-6e96-45ce-87c7-6c09239d2de0",
   "metadata": {},
   "outputs": [],
   "source": [
    "def predict(text):\n",
    "    inputs = tokenizer(text, padding=True, truncation=True, max_length=512, return_tensors=\"pt\").to(\"cuda\")\n",
    "\n",
    "    # Get model output (logits)\n",
    "    outputs = model(**inputs)\n",
    "\n",
    "    probs = outputs['logits'].softmax(1)\n",
    "    pred_label_idx = probs.argmax()\n",
    "\n",
    "    # Now map the predicted class index to the actual class label\n",
    "\n",
    "    # Since pred_label_idx is a tensor containing a single value (the predicted class index),\n",
    "    # the .item() method is used to extract the value as a scalar\n",
    "\n",
    "    pred_label = model.config.id2label[pred_label_idx.item()]\n",
    "\n",
    "    return probs, pred_label_idx, pred_label"
   ]
  },
  {
   "cell_type": "code",
   "execution_count": 25,
   "id": "f6b9e7b1-88da-42f9-af36-943bd501419c",
   "metadata": {},
   "outputs": [
    {
     "data": {
      "text/plain": [
       "('DPBH_BERT_Fine_Tuned_Model\\\\tokenizer_config.json',\n",
       " 'DPBH_BERT_Fine_Tuned_Model\\\\special_tokens_map.json',\n",
       " 'DPBH_BERT_Fine_Tuned_Model\\\\vocab.txt',\n",
       " 'DPBH_BERT_Fine_Tuned_Model\\\\added_tokens.json',\n",
       " 'DPBH_BERT_Fine_Tuned_Model\\\\tokenizer.json')"
      ]
     },
     "execution_count": 25,
     "metadata": {},
     "output_type": "execute_result"
    }
   ],
   "source": [
    "model_path = \"DPBH_BERT_Fine_Tuned_Model\"\n",
    "trainer.save_model(model_path)\n",
    "tokenizer.save_pretrained(model_path)"
   ]
  },
  {
   "cell_type": "code",
   "execution_count": 26,
   "id": "d60e4ffd-a101-4726-8d2e-496e67b142e1",
   "metadata": {},
   "outputs": [],
   "source": [
    "# Reload the model\n",
    "\n",
    "model_path = \"DPBH_BERT_Fine_Tuned_Model\"\n",
    "\n",
    "model = BertForSequenceClassification.from_pretrained(model_path)\n",
    "tokenizer = BertTokenizerFast.from_pretrained(model_path)\n",
    "nlp = pipeline(\"sentiment-analysis\", model=model, tokenizer=tokenizer)"
   ]
  },
  {
   "cell_type": "code",
   "execution_count": 27,
   "id": "a6db3076-959b-4538-94b5-951e217ec26d",
   "metadata": {},
   "outputs": [
    {
     "data": {
      "text/plain": [
       "[{'label': 'Social Proof', 'score': 0.9949702620506287}]"
      ]
     },
     "execution_count": 27,
     "metadata": {},
     "output_type": "execute_result"
    }
   ],
   "source": [
    "nlp(\"Haris just bought an airplane at just rs 99\")"
   ]
  },
  {
   "cell_type": "code",
   "execution_count": 28,
   "id": "258c8169-ed8c-4107-9106-9a3262068800",
   "metadata": {},
   "outputs": [
    {
     "data": {
      "text/plain": [
       "[{'label': 'Scarcity', 'score': 0.979070782661438}]"
      ]
     },
     "execution_count": 28,
     "metadata": {},
     "output_type": "execute_result"
    }
   ],
   "source": [
    "nlp(\"Hurry, exclusive offer – only 3 units remaining, don't miss out on this limited-time opportunity!\")"
   ]
  },
  {
   "cell_type": "code",
   "execution_count": 29,
   "id": "5809261b-ccdc-4d73-a038-7edc96317764",
   "metadata": {},
   "outputs": [
    {
     "data": {
      "text/plain": [
       "[{'label': 'Scarcity', 'score': 0.6656845808029175}]"
      ]
     },
     "execution_count": 29,
     "metadata": {},
     "output_type": "execute_result"
    }
   ],
   "source": [
    "nlp(\"10 minutes left\")"
   ]
  },
  {
   "cell_type": "code",
   "execution_count": 30,
   "id": "6a189e66-a59f-4932-909c-b5510d1e0690",
   "metadata": {},
   "outputs": [
    {
     "data": {
      "text/plain": [
       "[{'label': 'Misdirection', 'score': 0.9645480513572693}]"
      ]
     },
     "execution_count": 30,
     "metadata": {},
     "output_type": "execute_result"
    }
   ],
   "source": [
    "nlp(\"Don't miss out on our premium subscription - upgrade now and avoid being stuck with the basic features that only a few people settle for.\")"
   ]
  },
  {
   "cell_type": "code",
   "execution_count": 31,
   "id": "2910b89f-0fed-43e6-9985-501c333e7942",
   "metadata": {},
   "outputs": [
    {
     "data": {
      "text/plain": [
       "[{'label': 'Misdirection', 'score': 0.660565972328186}]"
      ]
     },
     "execution_count": 31,
     "metadata": {},
     "output_type": "execute_result"
    }
   ],
   "source": [
    "nlp(\"Unlock the full experience by clicking 'Upgrade Now' and leave behind the limitations of the standard version – your journey to superior benefits begins here!\")"
   ]
  },
  {
   "cell_type": "code",
   "execution_count": 32,
   "id": "22dc4f13-3965-4db8-ad44-45e5c9e25dae",
   "metadata": {},
   "outputs": [
    {
     "data": {
      "text/plain": [
       "[{'label': 'Misdirection', 'score': 0.883713960647583}]"
      ]
     },
     "execution_count": 32,
     "metadata": {},
     "output_type": "execute_result"
    }
   ],
   "source": [
    "nlp(\"Upgrade to our premium membership now or risk missing out on the exclusive benefits that only a few savvy individuals are securing – limited spots available!\")"
   ]
  },
  {
   "cell_type": "code",
   "execution_count": 33,
   "id": "3e96fda8-e403-4318-b223-4137fffd5973",
   "metadata": {},
   "outputs": [
    {
     "data": {
      "text/plain": [
       "[{'label': 'Misdirection', 'score': 0.7075169086456299}]"
      ]
     },
     "execution_count": 33,
     "metadata": {},
     "output_type": "execute_result"
    }
   ],
   "source": [
    "nlp(\"Don't subscribe now and unsubscribe later, because you wont get less knowledge\")"
   ]
  },
  {
   "cell_type": "code",
   "execution_count": 34,
   "id": "01098621-9a58-4e42-87df-3410b8de1da2",
   "metadata": {},
   "outputs": [
    {
     "data": {
      "text/plain": [
       "[{'label': 'Not Dark Pattern', 'score': 0.6206623315811157}]"
      ]
     },
     "execution_count": 34,
     "metadata": {},
     "output_type": "execute_result"
    }
   ],
   "source": [
    "nlp(\"Rohan has 5 airplane and now he owns 6. How? Because he is not an idiot like you.\")"
   ]
  },
  {
   "cell_type": "code",
   "execution_count": 35,
   "id": "91c14018-1cdb-4038-ad42-1425893e0ba1",
   "metadata": {},
   "outputs": [
    {
     "data": {
      "text/plain": [
       "[{'label': 'Not Dark Pattern', 'score': 0.9930243492126465}]"
      ]
     },
     "execution_count": 35,
     "metadata": {},
     "output_type": "execute_result"
    }
   ],
   "source": [
    "nlp(\"\")"
   ]
  },
  {
   "cell_type": "code",
   "execution_count": null,
   "id": "a5560fb7",
   "metadata": {},
   "outputs": [],
   "source": []
  }
 ],
 "metadata": {
  "kernelspec": {
   "display_name": "Python 3 (ipykernel)",
   "language": "python",
   "name": "python3"
  },
  "language_info": {
   "codemirror_mode": {
    "name": "ipython",
    "version": 3
   },
   "file_extension": ".py",
   "mimetype": "text/x-python",
   "name": "python",
   "nbconvert_exporter": "python",
   "pygments_lexer": "ipython3",
   "version": "3.11.5"
  }
 },
 "nbformat": 4,
 "nbformat_minor": 5
}
